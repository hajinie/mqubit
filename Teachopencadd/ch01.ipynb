{
 "cells": [
  {
   "cell_type": "markdown",
   "metadata": {},
   "source": [
    "ChEMBL 웹 리소스 클라이언ㄷ트와 python 라이브러리 가져오기 "
   ]
  },
  {
   "cell_type": "code",
   "execution_count": 2,
   "metadata": {},
   "outputs": [],
   "source": [
    "import math\n",
    "from pathlib import Path\n",
    "from zipfile import ZipFile\n",
    "from tempfile import TemporaryDirectory\n",
    "\n",
    "import numpy as np\n",
    "import pandas as pd\n",
    "from rdkit.Chem import PandasTools\n",
    "from chembl_webresource_client.new_client import new_client\n",
    "from tqdm.auto import tqdm\n"
   ]
  },
  {
   "cell_type": "code",
   "execution_count": 3,
   "metadata": {},
   "outputs": [],
   "source": [
    "HERE = Path(_dh[-1])\n",
    "DATA = HERE / \"data\"\n"
   ]
  },
  {
   "cell_type": "markdown",
   "metadata": {},
   "source": [
    "API는 두 소프트웨어 구성 요소가 서로 통신할 수 있게 하는 메커니즘. \n",
    "\n",
    "interface는 서버와 클라이언트의 의사소통\n",
    "\n",
    "API 액세스를 위한 리소스 객체 생성"
   ]
  },
  {
   "cell_type": "code",
   "execution_count": 4,
   "metadata": {},
   "outputs": [],
   "source": [
    "targets_api = new_client.target\n",
    "compounds_api = new_client.molecule\n",
    "bioactivities_api = new_client.activity"
   ]
  },
  {
   "cell_type": "code",
   "execution_count": 5,
   "metadata": {},
   "outputs": [
    {
     "data": {
      "text/plain": [
       "chembl_webresource_client.query_set.QuerySet"
      ]
     },
     "execution_count": 5,
     "metadata": {},
     "output_type": "execute_result"
    }
   ],
   "source": [
    "type(targets_api)"
   ]
  },
  {
   "cell_type": "code",
   "execution_count": 6,
   "metadata": {},
   "outputs": [],
   "source": [
    "uniprot_id = \"P00533\""
   ]
  },
  {
   "cell_type": "code",
   "execution_count": 7,
   "metadata": {},
   "outputs": [
    {
     "name": "stdout",
     "output_type": "stream",
     "text": [
      "The type of the targets is \"<class 'chembl_webresource_client.query_set.QuerySet'>\"\n"
     ]
    }
   ],
   "source": [
    "# Get target information from ChEMBL but restrict it to specified values only\n",
    "targets = targets_api.get(target_components__accession=uniprot_id).only(\n",
    "    \"target_chembl_id\", \"organism\", \"pref_name\", \"target_type\"\n",
    ")\n",
    "print(f'The type of the targets is \"{type(targets)}\"')"
   ]
  },
  {
   "cell_type": "code",
   "execution_count": 8,
   "metadata": {},
   "outputs": [
    {
     "data": {
      "text/html": [
       "<div>\n",
       "<style scoped>\n",
       "    .dataframe tbody tr th:only-of-type {\n",
       "        vertical-align: middle;\n",
       "    }\n",
       "\n",
       "    .dataframe tbody tr th {\n",
       "        vertical-align: top;\n",
       "    }\n",
       "\n",
       "    .dataframe thead th {\n",
       "        text-align: right;\n",
       "    }\n",
       "</style>\n",
       "<table border=\"1\" class=\"dataframe\">\n",
       "  <thead>\n",
       "    <tr style=\"text-align: right;\">\n",
       "      <th></th>\n",
       "      <th>organism</th>\n",
       "      <th>pref_name</th>\n",
       "      <th>target_chembl_id</th>\n",
       "      <th>target_type</th>\n",
       "    </tr>\n",
       "  </thead>\n",
       "  <tbody>\n",
       "    <tr>\n",
       "      <th>0</th>\n",
       "      <td>Homo sapiens</td>\n",
       "      <td>Epidermal growth factor receptor erbB1</td>\n",
       "      <td>CHEMBL203</td>\n",
       "      <td>SINGLE PROTEIN</td>\n",
       "    </tr>\n",
       "    <tr>\n",
       "      <th>1</th>\n",
       "      <td>Homo sapiens</td>\n",
       "      <td>Epidermal growth factor receptor erbB1</td>\n",
       "      <td>CHEMBL203</td>\n",
       "      <td>SINGLE PROTEIN</td>\n",
       "    </tr>\n",
       "    <tr>\n",
       "      <th>2</th>\n",
       "      <td>Homo sapiens</td>\n",
       "      <td>Epidermal growth factor receptor and ErbB2 (HE...</td>\n",
       "      <td>CHEMBL2111431</td>\n",
       "      <td>PROTEIN FAMILY</td>\n",
       "    </tr>\n",
       "    <tr>\n",
       "      <th>3</th>\n",
       "      <td>Homo sapiens</td>\n",
       "      <td>Epidermal growth factor receptor</td>\n",
       "      <td>CHEMBL2363049</td>\n",
       "      <td>PROTEIN FAMILY</td>\n",
       "    </tr>\n",
       "    <tr>\n",
       "      <th>4</th>\n",
       "      <td>Homo sapiens</td>\n",
       "      <td>MER intracellular domain/EGFR extracellular do...</td>\n",
       "      <td>CHEMBL3137284</td>\n",
       "      <td>CHIMERIC PROTEIN</td>\n",
       "    </tr>\n",
       "    <tr>\n",
       "      <th>5</th>\n",
       "      <td>Homo sapiens</td>\n",
       "      <td>Protein cereblon/Epidermal growth factor receptor</td>\n",
       "      <td>CHEMBL4523680</td>\n",
       "      <td>PROTEIN-PROTEIN INTERACTION</td>\n",
       "    </tr>\n",
       "    <tr>\n",
       "      <th>6</th>\n",
       "      <td>Homo sapiens</td>\n",
       "      <td>EGFR/PPP1CA</td>\n",
       "      <td>CHEMBL4523747</td>\n",
       "      <td>PROTEIN-PROTEIN INTERACTION</td>\n",
       "    </tr>\n",
       "    <tr>\n",
       "      <th>7</th>\n",
       "      <td>Homo sapiens</td>\n",
       "      <td>VHL/EGFR</td>\n",
       "      <td>CHEMBL4523998</td>\n",
       "      <td>PROTEIN-PROTEIN INTERACTION</td>\n",
       "    </tr>\n",
       "    <tr>\n",
       "      <th>8</th>\n",
       "      <td>Homo sapiens</td>\n",
       "      <td>Baculoviral IAP repeat-containing protein 2/Ep...</td>\n",
       "      <td>CHEMBL4802031</td>\n",
       "      <td>PROTEIN-PROTEIN INTERACTION</td>\n",
       "    </tr>\n",
       "  </tbody>\n",
       "</table>\n",
       "</div>"
      ],
      "text/plain": [
       "       organism                                          pref_name  \\\n",
       "0  Homo sapiens             Epidermal growth factor receptor erbB1   \n",
       "1  Homo sapiens             Epidermal growth factor receptor erbB1   \n",
       "2  Homo sapiens  Epidermal growth factor receptor and ErbB2 (HE...   \n",
       "3  Homo sapiens                   Epidermal growth factor receptor   \n",
       "4  Homo sapiens  MER intracellular domain/EGFR extracellular do...   \n",
       "5  Homo sapiens  Protein cereblon/Epidermal growth factor receptor   \n",
       "6  Homo sapiens                                        EGFR/PPP1CA   \n",
       "7  Homo sapiens                                           VHL/EGFR   \n",
       "8  Homo sapiens  Baculoviral IAP repeat-containing protein 2/Ep...   \n",
       "\n",
       "  target_chembl_id                  target_type  \n",
       "0        CHEMBL203               SINGLE PROTEIN  \n",
       "1        CHEMBL203               SINGLE PROTEIN  \n",
       "2    CHEMBL2111431               PROTEIN FAMILY  \n",
       "3    CHEMBL2363049               PROTEIN FAMILY  \n",
       "4    CHEMBL3137284             CHIMERIC PROTEIN  \n",
       "5    CHEMBL4523680  PROTEIN-PROTEIN INTERACTION  \n",
       "6    CHEMBL4523747  PROTEIN-PROTEIN INTERACTION  \n",
       "7    CHEMBL4523998  PROTEIN-PROTEIN INTERACTION  \n",
       "8    CHEMBL4802031  PROTEIN-PROTEIN INTERACTION  "
      ]
     },
     "execution_count": 8,
     "metadata": {},
     "output_type": "execute_result"
    }
   ],
   "source": [
    "targets = pd.DataFrame.from_records(targets)\n",
    "targets"
   ]
  },
  {
   "cell_type": "code",
   "execution_count": 9,
   "metadata": {},
   "outputs": [
    {
     "data": {
      "text/plain": [
       "organism                                      Homo sapiens\n",
       "pref_name           Epidermal growth factor receptor erbB1\n",
       "target_chembl_id                                 CHEMBL203\n",
       "target_type                                 SINGLE PROTEIN\n",
       "Name: 0, dtype: object"
      ]
     },
     "execution_count": 9,
     "metadata": {},
     "output_type": "execute_result"
    }
   ],
   "source": [
    "target = targets.iloc[0]\n",
    "target\n"
   ]
  },
  {
   "cell_type": "code",
   "execution_count": 10,
   "metadata": {},
   "outputs": [
    {
     "name": "stdout",
     "output_type": "stream",
     "text": [
      "The target ChEMBL ID is CHEMBL203\n"
     ]
    }
   ],
   "source": [
    "chembl_id = target.target_chembl_id\n",
    "print(f\"The target ChEMBL ID is {chembl_id}\")\n",
    "# NBVAL_CHECK_OUTPUT"
   ]
  },
  {
   "cell_type": "markdown",
   "metadata": {},
   "source": [
    "생물학적 활성 데이터 얻기"
   ]
  },
  {
   "cell_type": "code",
   "execution_count": 11,
   "metadata": {},
   "outputs": [
    {
     "name": "stdout",
     "output_type": "stream",
     "text": [
      "Length and type of bioactivities object: 10924, <class 'chembl_webresource_client.query_set.QuerySet'>\n"
     ]
    }
   ],
   "source": [
    "bioactivities = bioactivities_api.filter(\n",
    "    target_chembl_id=chembl_id, type=\"IC50\", relation=\"=\", assay_type=\"B\"\n",
    ").only(\n",
    "    \"activity_id\",\n",
    "    \"assay_chembl_id\",\n",
    "    \"assay_description\",\n",
    "    \"assay_type\",\n",
    "    \"molecule_chembl_id\",\n",
    "    \"type\",\n",
    "    \"standard_units\",\n",
    "    \"relation\",\n",
    "    \"standard_value\",\n",
    "    \"target_chembl_id\",\n",
    "    \"target_organism\",\n",
    ")\n",
    "\n",
    "print(f\"Length and type of bioactivities object: {len(bioactivities)}, {type(bioactivities)}\")"
   ]
  },
  {
   "cell_type": "code",
   "execution_count": 12,
   "metadata": {},
   "outputs": [
    {
     "name": "stdout",
     "output_type": "stream",
     "text": [
      "Length and type of first element: 13, <class 'dict'>\n"
     ]
    },
    {
     "data": {
      "text/plain": [
       "{'activity_id': 32260,\n",
       " 'assay_chembl_id': 'CHEMBL674637',\n",
       " 'assay_description': 'Inhibitory activity towards tyrosine phosphorylation for the epidermal growth factor-receptor kinase',\n",
       " 'assay_type': 'B',\n",
       " 'molecule_chembl_id': 'CHEMBL68920',\n",
       " 'relation': '=',\n",
       " 'standard_units': 'nM',\n",
       " 'standard_value': '41.0',\n",
       " 'target_chembl_id': 'CHEMBL203',\n",
       " 'target_organism': 'Homo sapiens',\n",
       " 'type': 'IC50',\n",
       " 'units': 'uM',\n",
       " 'value': '0.041'}"
      ]
     },
     "execution_count": 12,
     "metadata": {},
     "output_type": "execute_result"
    }
   ],
   "source": [
    "print(f\"Length and type of first element: {len(bioactivities[0])}, {type(bioactivities[0])}\")\n",
    "bioactivities[0]"
   ]
  },
  {
   "cell_type": "code",
   "execution_count": 13,
   "metadata": {},
   "outputs": [
    {
     "name": "stdout",
     "output_type": "stream",
     "text": [
      "DataFrame shape: (10924, 13)\n"
     ]
    },
    {
     "data": {
      "text/html": [
       "<div>\n",
       "<style scoped>\n",
       "    .dataframe tbody tr th:only-of-type {\n",
       "        vertical-align: middle;\n",
       "    }\n",
       "\n",
       "    .dataframe tbody tr th {\n",
       "        vertical-align: top;\n",
       "    }\n",
       "\n",
       "    .dataframe thead th {\n",
       "        text-align: right;\n",
       "    }\n",
       "</style>\n",
       "<table border=\"1\" class=\"dataframe\">\n",
       "  <thead>\n",
       "    <tr style=\"text-align: right;\">\n",
       "      <th></th>\n",
       "      <th>activity_id</th>\n",
       "      <th>assay_chembl_id</th>\n",
       "      <th>assay_description</th>\n",
       "      <th>assay_type</th>\n",
       "      <th>molecule_chembl_id</th>\n",
       "      <th>relation</th>\n",
       "      <th>standard_units</th>\n",
       "      <th>standard_value</th>\n",
       "      <th>target_chembl_id</th>\n",
       "      <th>target_organism</th>\n",
       "      <th>type</th>\n",
       "      <th>units</th>\n",
       "      <th>value</th>\n",
       "    </tr>\n",
       "  </thead>\n",
       "  <tbody>\n",
       "    <tr>\n",
       "      <th>0</th>\n",
       "      <td>32260</td>\n",
       "      <td>CHEMBL674637</td>\n",
       "      <td>Inhibitory activity towards tyrosine phosphory...</td>\n",
       "      <td>B</td>\n",
       "      <td>CHEMBL68920</td>\n",
       "      <td>=</td>\n",
       "      <td>nM</td>\n",
       "      <td>41.0</td>\n",
       "      <td>CHEMBL203</td>\n",
       "      <td>Homo sapiens</td>\n",
       "      <td>IC50</td>\n",
       "      <td>uM</td>\n",
       "      <td>0.041</td>\n",
       "    </tr>\n",
       "    <tr>\n",
       "      <th>1</th>\n",
       "      <td>32267</td>\n",
       "      <td>CHEMBL674637</td>\n",
       "      <td>Inhibitory activity towards tyrosine phosphory...</td>\n",
       "      <td>B</td>\n",
       "      <td>CHEMBL69960</td>\n",
       "      <td>=</td>\n",
       "      <td>nM</td>\n",
       "      <td>170.0</td>\n",
       "      <td>CHEMBL203</td>\n",
       "      <td>Homo sapiens</td>\n",
       "      <td>IC50</td>\n",
       "      <td>uM</td>\n",
       "      <td>0.17</td>\n",
       "    </tr>\n",
       "    <tr>\n",
       "      <th>2</th>\n",
       "      <td>32680</td>\n",
       "      <td>CHEMBL677833</td>\n",
       "      <td>In vitro inhibition of Epidermal growth factor...</td>\n",
       "      <td>B</td>\n",
       "      <td>CHEMBL137635</td>\n",
       "      <td>=</td>\n",
       "      <td>nM</td>\n",
       "      <td>9300.0</td>\n",
       "      <td>CHEMBL203</td>\n",
       "      <td>Homo sapiens</td>\n",
       "      <td>IC50</td>\n",
       "      <td>uM</td>\n",
       "      <td>9.3</td>\n",
       "    </tr>\n",
       "    <tr>\n",
       "      <th>3</th>\n",
       "      <td>32770</td>\n",
       "      <td>CHEMBL674643</td>\n",
       "      <td>Inhibitory concentration of EGF dependent auto...</td>\n",
       "      <td>B</td>\n",
       "      <td>CHEMBL306988</td>\n",
       "      <td>=</td>\n",
       "      <td>nM</td>\n",
       "      <td>500000.0</td>\n",
       "      <td>CHEMBL203</td>\n",
       "      <td>Homo sapiens</td>\n",
       "      <td>IC50</td>\n",
       "      <td>uM</td>\n",
       "      <td>500.0</td>\n",
       "    </tr>\n",
       "    <tr>\n",
       "      <th>4</th>\n",
       "      <td>32772</td>\n",
       "      <td>CHEMBL674643</td>\n",
       "      <td>Inhibitory concentration of EGF dependent auto...</td>\n",
       "      <td>B</td>\n",
       "      <td>CHEMBL66879</td>\n",
       "      <td>=</td>\n",
       "      <td>nM</td>\n",
       "      <td>3000000.0</td>\n",
       "      <td>CHEMBL203</td>\n",
       "      <td>Homo sapiens</td>\n",
       "      <td>IC50</td>\n",
       "      <td>uM</td>\n",
       "      <td>3000.0</td>\n",
       "    </tr>\n",
       "  </tbody>\n",
       "</table>\n",
       "</div>"
      ],
      "text/plain": [
       "   activity_id assay_chembl_id  \\\n",
       "0        32260    CHEMBL674637   \n",
       "1        32267    CHEMBL674637   \n",
       "2        32680    CHEMBL677833   \n",
       "3        32770    CHEMBL674643   \n",
       "4        32772    CHEMBL674643   \n",
       "\n",
       "                                   assay_description assay_type  \\\n",
       "0  Inhibitory activity towards tyrosine phosphory...          B   \n",
       "1  Inhibitory activity towards tyrosine phosphory...          B   \n",
       "2  In vitro inhibition of Epidermal growth factor...          B   \n",
       "3  Inhibitory concentration of EGF dependent auto...          B   \n",
       "4  Inhibitory concentration of EGF dependent auto...          B   \n",
       "\n",
       "  molecule_chembl_id relation standard_units standard_value target_chembl_id  \\\n",
       "0        CHEMBL68920        =             nM           41.0        CHEMBL203   \n",
       "1        CHEMBL69960        =             nM          170.0        CHEMBL203   \n",
       "2       CHEMBL137635        =             nM         9300.0        CHEMBL203   \n",
       "3       CHEMBL306988        =             nM       500000.0        CHEMBL203   \n",
       "4        CHEMBL66879        =             nM      3000000.0        CHEMBL203   \n",
       "\n",
       "  target_organism  type units   value  \n",
       "0    Homo sapiens  IC50    uM   0.041  \n",
       "1    Homo sapiens  IC50    uM    0.17  \n",
       "2    Homo sapiens  IC50    uM     9.3  \n",
       "3    Homo sapiens  IC50    uM   500.0  \n",
       "4    Homo sapiens  IC50    uM  3000.0  "
      ]
     },
     "execution_count": 13,
     "metadata": {},
     "output_type": "execute_result"
    }
   ],
   "source": [
    "bioactivities_df = pd.DataFrame.from_dict(bioactivities)\n",
    "print(f\"DataFrame shape: {bioactivities_df.shape}\")\n",
    "bioactivities_df.head()"
   ]
  },
  {
   "cell_type": "code",
   "execution_count": 14,
   "metadata": {},
   "outputs": [
    {
     "data": {
      "text/plain": [
       "array(['uM', 'nM', 'pM', 'M', \"10'3 uM\", \"10'1 ug/ml\", 'ug ml-1',\n",
       "       \"10'-1microM\", \"10'1 uM\", \"10'-1 ug/ml\", \"10'-2 ug/ml\", \"10'2 uM\",\n",
       "       \"10'-3 ug/ml\", \"10'-2microM\", '/uM', \"10'-6g/ml\", 'mM', 'umol/L',\n",
       "       'nmol/L', \"10'-10M\", \"10'-7M\", 'nmol', '10^-8M'], dtype=object)"
      ]
     },
     "execution_count": 14,
     "metadata": {},
     "output_type": "execute_result"
    }
   ],
   "source": [
    "bioactivities_df[\"units\"].unique()"
   ]
  },
  {
   "cell_type": "code",
   "execution_count": 15,
   "metadata": {},
   "outputs": [
    {
     "data": {
      "text/html": [
       "<div>\n",
       "<style scoped>\n",
       "    .dataframe tbody tr th:only-of-type {\n",
       "        vertical-align: middle;\n",
       "    }\n",
       "\n",
       "    .dataframe tbody tr th {\n",
       "        vertical-align: top;\n",
       "    }\n",
       "\n",
       "    .dataframe thead th {\n",
       "        text-align: right;\n",
       "    }\n",
       "</style>\n",
       "<table border=\"1\" class=\"dataframe\">\n",
       "  <thead>\n",
       "    <tr style=\"text-align: right;\">\n",
       "      <th></th>\n",
       "      <th>activity_id</th>\n",
       "      <th>assay_chembl_id</th>\n",
       "      <th>assay_description</th>\n",
       "      <th>assay_type</th>\n",
       "      <th>molecule_chembl_id</th>\n",
       "      <th>relation</th>\n",
       "      <th>standard_units</th>\n",
       "      <th>standard_value</th>\n",
       "      <th>target_chembl_id</th>\n",
       "      <th>target_organism</th>\n",
       "      <th>type</th>\n",
       "    </tr>\n",
       "  </thead>\n",
       "  <tbody>\n",
       "    <tr>\n",
       "      <th>0</th>\n",
       "      <td>32260</td>\n",
       "      <td>CHEMBL674637</td>\n",
       "      <td>Inhibitory activity towards tyrosine phosphory...</td>\n",
       "      <td>B</td>\n",
       "      <td>CHEMBL68920</td>\n",
       "      <td>=</td>\n",
       "      <td>nM</td>\n",
       "      <td>41.0</td>\n",
       "      <td>CHEMBL203</td>\n",
       "      <td>Homo sapiens</td>\n",
       "      <td>IC50</td>\n",
       "    </tr>\n",
       "    <tr>\n",
       "      <th>1</th>\n",
       "      <td>32267</td>\n",
       "      <td>CHEMBL674637</td>\n",
       "      <td>Inhibitory activity towards tyrosine phosphory...</td>\n",
       "      <td>B</td>\n",
       "      <td>CHEMBL69960</td>\n",
       "      <td>=</td>\n",
       "      <td>nM</td>\n",
       "      <td>170.0</td>\n",
       "      <td>CHEMBL203</td>\n",
       "      <td>Homo sapiens</td>\n",
       "      <td>IC50</td>\n",
       "    </tr>\n",
       "    <tr>\n",
       "      <th>2</th>\n",
       "      <td>32680</td>\n",
       "      <td>CHEMBL677833</td>\n",
       "      <td>In vitro inhibition of Epidermal growth factor...</td>\n",
       "      <td>B</td>\n",
       "      <td>CHEMBL137635</td>\n",
       "      <td>=</td>\n",
       "      <td>nM</td>\n",
       "      <td>9300.0</td>\n",
       "      <td>CHEMBL203</td>\n",
       "      <td>Homo sapiens</td>\n",
       "      <td>IC50</td>\n",
       "    </tr>\n",
       "    <tr>\n",
       "      <th>3</th>\n",
       "      <td>32770</td>\n",
       "      <td>CHEMBL674643</td>\n",
       "      <td>Inhibitory concentration of EGF dependent auto...</td>\n",
       "      <td>B</td>\n",
       "      <td>CHEMBL306988</td>\n",
       "      <td>=</td>\n",
       "      <td>nM</td>\n",
       "      <td>500000.0</td>\n",
       "      <td>CHEMBL203</td>\n",
       "      <td>Homo sapiens</td>\n",
       "      <td>IC50</td>\n",
       "    </tr>\n",
       "    <tr>\n",
       "      <th>4</th>\n",
       "      <td>32772</td>\n",
       "      <td>CHEMBL674643</td>\n",
       "      <td>Inhibitory concentration of EGF dependent auto...</td>\n",
       "      <td>B</td>\n",
       "      <td>CHEMBL66879</td>\n",
       "      <td>=</td>\n",
       "      <td>nM</td>\n",
       "      <td>3000000.0</td>\n",
       "      <td>CHEMBL203</td>\n",
       "      <td>Homo sapiens</td>\n",
       "      <td>IC50</td>\n",
       "    </tr>\n",
       "  </tbody>\n",
       "</table>\n",
       "</div>"
      ],
      "text/plain": [
       "   activity_id assay_chembl_id  \\\n",
       "0        32260    CHEMBL674637   \n",
       "1        32267    CHEMBL674637   \n",
       "2        32680    CHEMBL677833   \n",
       "3        32770    CHEMBL674643   \n",
       "4        32772    CHEMBL674643   \n",
       "\n",
       "                                   assay_description assay_type  \\\n",
       "0  Inhibitory activity towards tyrosine phosphory...          B   \n",
       "1  Inhibitory activity towards tyrosine phosphory...          B   \n",
       "2  In vitro inhibition of Epidermal growth factor...          B   \n",
       "3  Inhibitory concentration of EGF dependent auto...          B   \n",
       "4  Inhibitory concentration of EGF dependent auto...          B   \n",
       "\n",
       "  molecule_chembl_id relation standard_units standard_value target_chembl_id  \\\n",
       "0        CHEMBL68920        =             nM           41.0        CHEMBL203   \n",
       "1        CHEMBL69960        =             nM          170.0        CHEMBL203   \n",
       "2       CHEMBL137635        =             nM         9300.0        CHEMBL203   \n",
       "3       CHEMBL306988        =             nM       500000.0        CHEMBL203   \n",
       "4        CHEMBL66879        =             nM      3000000.0        CHEMBL203   \n",
       "\n",
       "  target_organism  type  \n",
       "0    Homo sapiens  IC50  \n",
       "1    Homo sapiens  IC50  \n",
       "2    Homo sapiens  IC50  \n",
       "3    Homo sapiens  IC50  \n",
       "4    Homo sapiens  IC50  "
      ]
     },
     "execution_count": 15,
     "metadata": {},
     "output_type": "execute_result"
    }
   ],
   "source": [
    "bioactivities_df.drop([\"units\", \"value\"], axis=1, inplace=True)\n",
    "bioactivities_df.head()"
   ]
  },
  {
   "cell_type": "markdown",
   "metadata": {},
   "source": [
    "생물학적 활성 데이터 전처리 및 필터링 \n",
    "\n",
    "-datatype을 object에서 float으로 바꾸기\n",
    "-missing 삭제\n",
    "-nM으로 유지\n",
    "-중복 삭제\n",
    "-index 초기화\n",
    "-열 이름 재정의"
   ]
  },
  {
   "cell_type": "code",
   "execution_count": 16,
   "metadata": {},
   "outputs": [
    {
     "data": {
      "text/plain": [
       "activity_id            int64\n",
       "assay_chembl_id       object\n",
       "assay_description     object\n",
       "assay_type            object\n",
       "molecule_chembl_id    object\n",
       "relation              object\n",
       "standard_units        object\n",
       "standard_value        object\n",
       "target_chembl_id      object\n",
       "target_organism       object\n",
       "type                  object\n",
       "dtype: object"
      ]
     },
     "execution_count": 16,
     "metadata": {},
     "output_type": "execute_result"
    }
   ],
   "source": [
    "bioactivities_df.dtypes"
   ]
  },
  {
   "cell_type": "code",
   "execution_count": 17,
   "metadata": {},
   "outputs": [
    {
     "data": {
      "text/plain": [
       "activity_id             int64\n",
       "assay_chembl_id        object\n",
       "assay_description      object\n",
       "assay_type             object\n",
       "molecule_chembl_id     object\n",
       "relation               object\n",
       "standard_units         object\n",
       "standard_value        float64\n",
       "target_chembl_id       object\n",
       "target_organism        object\n",
       "type                   object\n",
       "dtype: object"
      ]
     },
     "execution_count": 17,
     "metadata": {},
     "output_type": "execute_result"
    }
   ],
   "source": [
    "bioactivities_df = bioactivities_df.astype({\"standard_value\": \"float64\"})\n",
    "bioactivities_df.dtypes"
   ]
  },
  {
   "cell_type": "code",
   "execution_count": 18,
   "metadata": {},
   "outputs": [
    {
     "name": "stdout",
     "output_type": "stream",
     "text": [
      "DataFrame shape: (10923, 11)\n"
     ]
    }
   ],
   "source": [
    "bioactivities_df.dropna(axis=0, how=\"any\", inplace=True)\n",
    "print(f\"DataFrame shape: {bioactivities_df.shape}\")"
   ]
  },
  {
   "cell_type": "code",
   "execution_count": 19,
   "metadata": {},
   "outputs": [
    {
     "name": "stdout",
     "output_type": "stream",
     "text": [
      "Units in downloaded data: ['nM' 'ug.mL-1' '/uM']\n",
      "Number of non-nM entries:    69\n"
     ]
    }
   ],
   "source": [
    "print(f\"Units in downloaded data: {bioactivities_df['standard_units'].unique()}\")\n",
    "print(\n",
    "    f\"Number of non-nM entries:\\\n",
    "    {bioactivities_df[bioactivities_df['standard_units'] != 'nM'].shape[0]}\"\n",
    ")"
   ]
  },
  {
   "cell_type": "code",
   "execution_count": 20,
   "metadata": {},
   "outputs": [
    {
     "name": "stdout",
     "output_type": "stream",
     "text": [
      "Units after filtering: ['nM']\n"
     ]
    }
   ],
   "source": [
    "bioactivities_df = bioactivities_df[bioactivities_df[\"standard_units\"] == \"nM\"]\n",
    "print(f\"Units after filtering: {bioactivities_df['standard_units'].unique()}\")"
   ]
  },
  {
   "cell_type": "code",
   "execution_count": 21,
   "metadata": {},
   "outputs": [
    {
     "name": "stdout",
     "output_type": "stream",
     "text": [
      "DataFrame shape: (10854, 11)\n"
     ]
    }
   ],
   "source": [
    "print(f\"DataFrame shape: {bioactivities_df.shape}\")"
   ]
  },
  {
   "cell_type": "code",
   "execution_count": 22,
   "metadata": {},
   "outputs": [
    {
     "name": "stdout",
     "output_type": "stream",
     "text": [
      "DataFrame shape: (7081, 11)\n"
     ]
    }
   ],
   "source": [
    "bioactivities_df.drop_duplicates(\"molecule_chembl_id\", keep=\"first\", inplace=True)\n",
    "print(f\"DataFrame shape: {bioactivities_df.shape}\")"
   ]
  },
  {
   "cell_type": "code",
   "execution_count": 23,
   "metadata": {},
   "outputs": [
    {
     "data": {
      "text/html": [
       "<div>\n",
       "<style scoped>\n",
       "    .dataframe tbody tr th:only-of-type {\n",
       "        vertical-align: middle;\n",
       "    }\n",
       "\n",
       "    .dataframe tbody tr th {\n",
       "        vertical-align: top;\n",
       "    }\n",
       "\n",
       "    .dataframe thead th {\n",
       "        text-align: right;\n",
       "    }\n",
       "</style>\n",
       "<table border=\"1\" class=\"dataframe\">\n",
       "  <thead>\n",
       "    <tr style=\"text-align: right;\">\n",
       "      <th></th>\n",
       "      <th>activity_id</th>\n",
       "      <th>assay_chembl_id</th>\n",
       "      <th>assay_description</th>\n",
       "      <th>assay_type</th>\n",
       "      <th>molecule_chembl_id</th>\n",
       "      <th>relation</th>\n",
       "      <th>standard_units</th>\n",
       "      <th>standard_value</th>\n",
       "      <th>target_chembl_id</th>\n",
       "      <th>target_organism</th>\n",
       "      <th>type</th>\n",
       "    </tr>\n",
       "  </thead>\n",
       "  <tbody>\n",
       "    <tr>\n",
       "      <th>0</th>\n",
       "      <td>32260</td>\n",
       "      <td>CHEMBL674637</td>\n",
       "      <td>Inhibitory activity towards tyrosine phosphory...</td>\n",
       "      <td>B</td>\n",
       "      <td>CHEMBL68920</td>\n",
       "      <td>=</td>\n",
       "      <td>nM</td>\n",
       "      <td>41.0</td>\n",
       "      <td>CHEMBL203</td>\n",
       "      <td>Homo sapiens</td>\n",
       "      <td>IC50</td>\n",
       "    </tr>\n",
       "    <tr>\n",
       "      <th>1</th>\n",
       "      <td>32267</td>\n",
       "      <td>CHEMBL674637</td>\n",
       "      <td>Inhibitory activity towards tyrosine phosphory...</td>\n",
       "      <td>B</td>\n",
       "      <td>CHEMBL69960</td>\n",
       "      <td>=</td>\n",
       "      <td>nM</td>\n",
       "      <td>170.0</td>\n",
       "      <td>CHEMBL203</td>\n",
       "      <td>Homo sapiens</td>\n",
       "      <td>IC50</td>\n",
       "    </tr>\n",
       "    <tr>\n",
       "      <th>2</th>\n",
       "      <td>32680</td>\n",
       "      <td>CHEMBL677833</td>\n",
       "      <td>In vitro inhibition of Epidermal growth factor...</td>\n",
       "      <td>B</td>\n",
       "      <td>CHEMBL137635</td>\n",
       "      <td>=</td>\n",
       "      <td>nM</td>\n",
       "      <td>9300.0</td>\n",
       "      <td>CHEMBL203</td>\n",
       "      <td>Homo sapiens</td>\n",
       "      <td>IC50</td>\n",
       "    </tr>\n",
       "    <tr>\n",
       "      <th>3</th>\n",
       "      <td>32770</td>\n",
       "      <td>CHEMBL674643</td>\n",
       "      <td>Inhibitory concentration of EGF dependent auto...</td>\n",
       "      <td>B</td>\n",
       "      <td>CHEMBL306988</td>\n",
       "      <td>=</td>\n",
       "      <td>nM</td>\n",
       "      <td>500000.0</td>\n",
       "      <td>CHEMBL203</td>\n",
       "      <td>Homo sapiens</td>\n",
       "      <td>IC50</td>\n",
       "    </tr>\n",
       "    <tr>\n",
       "      <th>4</th>\n",
       "      <td>32772</td>\n",
       "      <td>CHEMBL674643</td>\n",
       "      <td>Inhibitory concentration of EGF dependent auto...</td>\n",
       "      <td>B</td>\n",
       "      <td>CHEMBL66879</td>\n",
       "      <td>=</td>\n",
       "      <td>nM</td>\n",
       "      <td>3000000.0</td>\n",
       "      <td>CHEMBL203</td>\n",
       "      <td>Homo sapiens</td>\n",
       "      <td>IC50</td>\n",
       "    </tr>\n",
       "  </tbody>\n",
       "</table>\n",
       "</div>"
      ],
      "text/plain": [
       "   activity_id assay_chembl_id  \\\n",
       "0        32260    CHEMBL674637   \n",
       "1        32267    CHEMBL674637   \n",
       "2        32680    CHEMBL677833   \n",
       "3        32770    CHEMBL674643   \n",
       "4        32772    CHEMBL674643   \n",
       "\n",
       "                                   assay_description assay_type  \\\n",
       "0  Inhibitory activity towards tyrosine phosphory...          B   \n",
       "1  Inhibitory activity towards tyrosine phosphory...          B   \n",
       "2  In vitro inhibition of Epidermal growth factor...          B   \n",
       "3  Inhibitory concentration of EGF dependent auto...          B   \n",
       "4  Inhibitory concentration of EGF dependent auto...          B   \n",
       "\n",
       "  molecule_chembl_id relation standard_units  standard_value target_chembl_id  \\\n",
       "0        CHEMBL68920        =             nM            41.0        CHEMBL203   \n",
       "1        CHEMBL69960        =             nM           170.0        CHEMBL203   \n",
       "2       CHEMBL137635        =             nM          9300.0        CHEMBL203   \n",
       "3       CHEMBL306988        =             nM        500000.0        CHEMBL203   \n",
       "4        CHEMBL66879        =             nM       3000000.0        CHEMBL203   \n",
       "\n",
       "  target_organism  type  \n",
       "0    Homo sapiens  IC50  \n",
       "1    Homo sapiens  IC50  \n",
       "2    Homo sapiens  IC50  \n",
       "3    Homo sapiens  IC50  \n",
       "4    Homo sapiens  IC50  "
      ]
     },
     "execution_count": 23,
     "metadata": {},
     "output_type": "execute_result"
    }
   ],
   "source": [
    "bioactivities_df.reset_index(drop=True, inplace=True)\n",
    "bioactivities_df.head()"
   ]
  },
  {
   "cell_type": "code",
   "execution_count": 24,
   "metadata": {},
   "outputs": [
    {
     "data": {
      "text/html": [
       "<div>\n",
       "<style scoped>\n",
       "    .dataframe tbody tr th:only-of-type {\n",
       "        vertical-align: middle;\n",
       "    }\n",
       "\n",
       "    .dataframe tbody tr th {\n",
       "        vertical-align: top;\n",
       "    }\n",
       "\n",
       "    .dataframe thead th {\n",
       "        text-align: right;\n",
       "    }\n",
       "</style>\n",
       "<table border=\"1\" class=\"dataframe\">\n",
       "  <thead>\n",
       "    <tr style=\"text-align: right;\">\n",
       "      <th></th>\n",
       "      <th>activity_id</th>\n",
       "      <th>assay_chembl_id</th>\n",
       "      <th>assay_description</th>\n",
       "      <th>assay_type</th>\n",
       "      <th>molecule_chembl_id</th>\n",
       "      <th>relation</th>\n",
       "      <th>units</th>\n",
       "      <th>IC50</th>\n",
       "      <th>target_chembl_id</th>\n",
       "      <th>target_organism</th>\n",
       "      <th>type</th>\n",
       "    </tr>\n",
       "  </thead>\n",
       "  <tbody>\n",
       "    <tr>\n",
       "      <th>0</th>\n",
       "      <td>32260</td>\n",
       "      <td>CHEMBL674637</td>\n",
       "      <td>Inhibitory activity towards tyrosine phosphory...</td>\n",
       "      <td>B</td>\n",
       "      <td>CHEMBL68920</td>\n",
       "      <td>=</td>\n",
       "      <td>nM</td>\n",
       "      <td>41.0</td>\n",
       "      <td>CHEMBL203</td>\n",
       "      <td>Homo sapiens</td>\n",
       "      <td>IC50</td>\n",
       "    </tr>\n",
       "    <tr>\n",
       "      <th>1</th>\n",
       "      <td>32267</td>\n",
       "      <td>CHEMBL674637</td>\n",
       "      <td>Inhibitory activity towards tyrosine phosphory...</td>\n",
       "      <td>B</td>\n",
       "      <td>CHEMBL69960</td>\n",
       "      <td>=</td>\n",
       "      <td>nM</td>\n",
       "      <td>170.0</td>\n",
       "      <td>CHEMBL203</td>\n",
       "      <td>Homo sapiens</td>\n",
       "      <td>IC50</td>\n",
       "    </tr>\n",
       "    <tr>\n",
       "      <th>2</th>\n",
       "      <td>32680</td>\n",
       "      <td>CHEMBL677833</td>\n",
       "      <td>In vitro inhibition of Epidermal growth factor...</td>\n",
       "      <td>B</td>\n",
       "      <td>CHEMBL137635</td>\n",
       "      <td>=</td>\n",
       "      <td>nM</td>\n",
       "      <td>9300.0</td>\n",
       "      <td>CHEMBL203</td>\n",
       "      <td>Homo sapiens</td>\n",
       "      <td>IC50</td>\n",
       "    </tr>\n",
       "    <tr>\n",
       "      <th>3</th>\n",
       "      <td>32770</td>\n",
       "      <td>CHEMBL674643</td>\n",
       "      <td>Inhibitory concentration of EGF dependent auto...</td>\n",
       "      <td>B</td>\n",
       "      <td>CHEMBL306988</td>\n",
       "      <td>=</td>\n",
       "      <td>nM</td>\n",
       "      <td>500000.0</td>\n",
       "      <td>CHEMBL203</td>\n",
       "      <td>Homo sapiens</td>\n",
       "      <td>IC50</td>\n",
       "    </tr>\n",
       "    <tr>\n",
       "      <th>4</th>\n",
       "      <td>32772</td>\n",
       "      <td>CHEMBL674643</td>\n",
       "      <td>Inhibitory concentration of EGF dependent auto...</td>\n",
       "      <td>B</td>\n",
       "      <td>CHEMBL66879</td>\n",
       "      <td>=</td>\n",
       "      <td>nM</td>\n",
       "      <td>3000000.0</td>\n",
       "      <td>CHEMBL203</td>\n",
       "      <td>Homo sapiens</td>\n",
       "      <td>IC50</td>\n",
       "    </tr>\n",
       "  </tbody>\n",
       "</table>\n",
       "</div>"
      ],
      "text/plain": [
       "   activity_id assay_chembl_id  \\\n",
       "0        32260    CHEMBL674637   \n",
       "1        32267    CHEMBL674637   \n",
       "2        32680    CHEMBL677833   \n",
       "3        32770    CHEMBL674643   \n",
       "4        32772    CHEMBL674643   \n",
       "\n",
       "                                   assay_description assay_type  \\\n",
       "0  Inhibitory activity towards tyrosine phosphory...          B   \n",
       "1  Inhibitory activity towards tyrosine phosphory...          B   \n",
       "2  In vitro inhibition of Epidermal growth factor...          B   \n",
       "3  Inhibitory concentration of EGF dependent auto...          B   \n",
       "4  Inhibitory concentration of EGF dependent auto...          B   \n",
       "\n",
       "  molecule_chembl_id relation units       IC50 target_chembl_id  \\\n",
       "0        CHEMBL68920        =    nM       41.0        CHEMBL203   \n",
       "1        CHEMBL69960        =    nM      170.0        CHEMBL203   \n",
       "2       CHEMBL137635        =    nM     9300.0        CHEMBL203   \n",
       "3       CHEMBL306988        =    nM   500000.0        CHEMBL203   \n",
       "4        CHEMBL66879        =    nM  3000000.0        CHEMBL203   \n",
       "\n",
       "  target_organism  type  \n",
       "0    Homo sapiens  IC50  \n",
       "1    Homo sapiens  IC50  \n",
       "2    Homo sapiens  IC50  \n",
       "3    Homo sapiens  IC50  \n",
       "4    Homo sapiens  IC50  "
      ]
     },
     "execution_count": 24,
     "metadata": {},
     "output_type": "execute_result"
    }
   ],
   "source": [
    "bioactivities_df.rename(\n",
    "    columns={\"standard_value\": \"IC50\", \"standard_units\": \"units\"}, inplace=True\n",
    ")\n",
    "bioactivities_df.head()"
   ]
  },
  {
   "cell_type": "markdown",
   "metadata": {},
   "source": [
    "ChEMBL에서 데이터(ID와 구조) 가져오기"
   ]
  },
  {
   "cell_type": "code",
   "execution_count": 25,
   "metadata": {},
   "outputs": [],
   "source": [
    "compounds_provider = compounds_api.filter(\n",
    "    molecule_chembl_id__in=list(bioactivities_df[\"molecule_chembl_id\"])\n",
    ").only(\"molecule_chembl_id\", \"molecule_structures\")"
   ]
  },
  {
   "cell_type": "code",
   "execution_count": 26,
   "metadata": {},
   "outputs": [
    {
     "data": {
      "application/vnd.jupyter.widget-view+json": {
       "model_id": "1491aef4ee50438882c84f176cd2a005",
       "version_major": 2,
       "version_minor": 0
      },
      "text/plain": [
       "  0%|          | 0/7081 [00:00<?, ?it/s]"
      ]
     },
     "metadata": {},
     "output_type": "display_data"
    }
   ],
   "source": [
    "compounds = list(tqdm(compounds_provider))"
   ]
  },
  {
   "cell_type": "code",
   "execution_count": 27,
   "metadata": {},
   "outputs": [
    {
     "name": "stdout",
     "output_type": "stream",
     "text": [
      "DataFrame shape: (7081, 2)\n"
     ]
    }
   ],
   "source": [
    "compounds_df = pd.DataFrame.from_records(\n",
    "    compounds,\n",
    ")\n",
    "print(f\"DataFrame shape: {compounds_df.shape}\")"
   ]
  },
  {
   "cell_type": "code",
   "execution_count": 28,
   "metadata": {},
   "outputs": [
    {
     "data": {
      "text/html": [
       "<div>\n",
       "<style scoped>\n",
       "    .dataframe tbody tr th:only-of-type {\n",
       "        vertical-align: middle;\n",
       "    }\n",
       "\n",
       "    .dataframe tbody tr th {\n",
       "        vertical-align: top;\n",
       "    }\n",
       "\n",
       "    .dataframe thead th {\n",
       "        text-align: right;\n",
       "    }\n",
       "</style>\n",
       "<table border=\"1\" class=\"dataframe\">\n",
       "  <thead>\n",
       "    <tr style=\"text-align: right;\">\n",
       "      <th></th>\n",
       "      <th>molecule_chembl_id</th>\n",
       "      <th>molecule_structures</th>\n",
       "    </tr>\n",
       "  </thead>\n",
       "  <tbody>\n",
       "    <tr>\n",
       "      <th>0</th>\n",
       "      <td>CHEMBL6246</td>\n",
       "      <td>{'canonical_smiles': 'O=c1oc2c(O)c(O)cc3c(=O)o...</td>\n",
       "    </tr>\n",
       "    <tr>\n",
       "      <th>1</th>\n",
       "      <td>CHEMBL10</td>\n",
       "      <td>{'canonical_smiles': 'C[S+]([O-])c1ccc(-c2nc(-...</td>\n",
       "    </tr>\n",
       "    <tr>\n",
       "      <th>2</th>\n",
       "      <td>CHEMBL6976</td>\n",
       "      <td>{'canonical_smiles': 'COc1cc2c(cc1OC)Nc1ncn(C)...</td>\n",
       "    </tr>\n",
       "    <tr>\n",
       "      <th>3</th>\n",
       "      <td>CHEMBL7002</td>\n",
       "      <td>{'canonical_smiles': 'CC1(COc2ccc(CC3SC(=O)NC3...</td>\n",
       "    </tr>\n",
       "    <tr>\n",
       "      <th>4</th>\n",
       "      <td>CHEMBL414013</td>\n",
       "      <td>{'canonical_smiles': 'COc1cc2c(cc1OC)Nc1ncnc(O...</td>\n",
       "    </tr>\n",
       "  </tbody>\n",
       "</table>\n",
       "</div>"
      ],
      "text/plain": [
       "  molecule_chembl_id                                molecule_structures\n",
       "0         CHEMBL6246  {'canonical_smiles': 'O=c1oc2c(O)c(O)cc3c(=O)o...\n",
       "1           CHEMBL10  {'canonical_smiles': 'C[S+]([O-])c1ccc(-c2nc(-...\n",
       "2         CHEMBL6976  {'canonical_smiles': 'COc1cc2c(cc1OC)Nc1ncn(C)...\n",
       "3         CHEMBL7002  {'canonical_smiles': 'CC1(COc2ccc(CC3SC(=O)NC3...\n",
       "4       CHEMBL414013  {'canonical_smiles': 'COc1cc2c(cc1OC)Nc1ncnc(O..."
      ]
     },
     "execution_count": 28,
     "metadata": {},
     "output_type": "execute_result"
    }
   ],
   "source": [
    "compounds_df.head()"
   ]
  },
  {
   "cell_type": "code",
   "execution_count": 29,
   "metadata": {},
   "outputs": [
    {
     "name": "stdout",
     "output_type": "stream",
     "text": [
      "DataFrame shape: (7074, 2)\n"
     ]
    }
   ],
   "source": [
    "compounds_df.dropna(axis=0, how=\"any\", inplace=True)\n",
    "print(f\"DataFrame shape: {compounds_df.shape}\")"
   ]
  },
  {
   "cell_type": "code",
   "execution_count": 30,
   "metadata": {},
   "outputs": [
    {
     "name": "stdout",
     "output_type": "stream",
     "text": [
      "DataFrame shape: (7074, 2)\n"
     ]
    }
   ],
   "source": [
    "compounds_df.drop_duplicates(\"molecule_chembl_id\", keep=\"first\", inplace=True)\n",
    "print(f\"DataFrame shape: {compounds_df.shape}\")"
   ]
  },
  {
   "cell_type": "code",
   "execution_count": 31,
   "metadata": {},
   "outputs": [
    {
     "data": {
      "text/plain": [
       "dict_keys(['canonical_smiles', 'molfile', 'standard_inchi', 'standard_inchi_key'])"
      ]
     },
     "execution_count": 31,
     "metadata": {},
     "output_type": "execute_result"
    }
   ],
   "source": [
    "compounds_df.iloc[0].molecule_structures.keys()"
   ]
  },
  {
   "cell_type": "code",
   "execution_count": 32,
   "metadata": {},
   "outputs": [
    {
     "name": "stdout",
     "output_type": "stream",
     "text": [
      "DataFrame shape: (7074, 2)\n"
     ]
    }
   ],
   "source": [
    "canonical_smiles = []\n",
    "\n",
    "for i, compounds in compounds_df.iterrows():\n",
    "    try:\n",
    "        canonical_smiles.append(compounds[\"molecule_structures\"][\"canonical_smiles\"])\n",
    "    except KeyError:\n",
    "        canonical_smiles.append(None)\n",
    "\n",
    "compounds_df[\"smiles\"] = canonical_smiles\n",
    "compounds_df.drop(\"molecule_structures\", axis=1, inplace=True)\n",
    "print(f\"DataFrame shape: {compounds_df.shape}\")"
   ]
  },
  {
   "cell_type": "code",
   "execution_count": 33,
   "metadata": {},
   "outputs": [
    {
     "name": "stdout",
     "output_type": "stream",
     "text": [
      "DataFrame shape: (7074, 2)\n"
     ]
    }
   ],
   "source": [
    "compounds_df.dropna(axis=0, how=\"any\", inplace=True)\n",
    "print(f\"DataFrame shape: {compounds_df.shape}\")"
   ]
  },
  {
   "cell_type": "code",
   "execution_count": 34,
   "metadata": {},
   "outputs": [
    {
     "name": "stdout",
     "output_type": "stream",
     "text": [
      "Bioactivities filtered: 7081\n"
     ]
    },
    {
     "data": {
      "text/plain": [
       "Index(['activity_id', 'assay_chembl_id', 'assay_description', 'assay_type',\n",
       "       'molecule_chembl_id', 'relation', 'units', 'IC50', 'target_chembl_id',\n",
       "       'target_organism', 'type'],\n",
       "      dtype='object')"
      ]
     },
     "execution_count": 34,
     "metadata": {},
     "output_type": "execute_result"
    }
   ],
   "source": [
    "print(f\"Bioactivities filtered: {bioactivities_df.shape[0]}\")\n",
    "bioactivities_df.columns"
   ]
  },
  {
   "cell_type": "code",
   "execution_count": 35,
   "metadata": {},
   "outputs": [
    {
     "name": "stdout",
     "output_type": "stream",
     "text": [
      "Compounds filtered: 7074\n"
     ]
    },
    {
     "data": {
      "text/plain": [
       "Index(['molecule_chembl_id', 'smiles'], dtype='object')"
      ]
     },
     "execution_count": 35,
     "metadata": {},
     "output_type": "execute_result"
    }
   ],
   "source": [
    "print(f\"Compounds filtered: {compounds_df.shape[0]}\")\n",
    "compounds_df.columns\n"
   ]
  },
  {
   "cell_type": "code",
   "execution_count": 36,
   "metadata": {},
   "outputs": [
    {
     "name": "stdout",
     "output_type": "stream",
     "text": [
      "Dataset with 7074 entries.\n"
     ]
    }
   ],
   "source": [
    "# Merge DataFrames\n",
    "output_df = pd.merge(\n",
    "    bioactivities_df[[\"molecule_chembl_id\", \"IC50\", \"units\"]],\n",
    "    compounds_df,\n",
    "    on=\"molecule_chembl_id\",\n",
    ")\n",
    "\n",
    "# Reset row indices\n",
    "output_df.reset_index(drop=True, inplace=True)\n",
    "\n",
    "print(f\"Dataset with {output_df.shape[0]} entries.\")"
   ]
  },
  {
   "cell_type": "code",
   "execution_count": 37,
   "metadata": {},
   "outputs": [
    {
     "data": {
      "text/plain": [
       "molecule_chembl_id     object\n",
       "IC50                  float64\n",
       "units                  object\n",
       "smiles                 object\n",
       "dtype: object"
      ]
     },
     "execution_count": 37,
     "metadata": {},
     "output_type": "execute_result"
    }
   ],
   "source": [
    "output_df.dtypes"
   ]
  },
  {
   "cell_type": "code",
   "execution_count": 38,
   "metadata": {},
   "outputs": [
    {
     "data": {
      "text/html": [
       "<div>\n",
       "<style scoped>\n",
       "    .dataframe tbody tr th:only-of-type {\n",
       "        vertical-align: middle;\n",
       "    }\n",
       "\n",
       "    .dataframe tbody tr th {\n",
       "        vertical-align: top;\n",
       "    }\n",
       "\n",
       "    .dataframe thead th {\n",
       "        text-align: right;\n",
       "    }\n",
       "</style>\n",
       "<table border=\"1\" class=\"dataframe\">\n",
       "  <thead>\n",
       "    <tr style=\"text-align: right;\">\n",
       "      <th></th>\n",
       "      <th>molecule_chembl_id</th>\n",
       "      <th>IC50</th>\n",
       "      <th>units</th>\n",
       "      <th>smiles</th>\n",
       "    </tr>\n",
       "  </thead>\n",
       "  <tbody>\n",
       "    <tr>\n",
       "      <th>0</th>\n",
       "      <td>CHEMBL68920</td>\n",
       "      <td>41.0</td>\n",
       "      <td>nM</td>\n",
       "      <td>Cc1cc(C)c(/C=C2\\C(=O)Nc3ncnc(Nc4ccc(F)c(Cl)c4)...</td>\n",
       "    </tr>\n",
       "    <tr>\n",
       "      <th>1</th>\n",
       "      <td>CHEMBL69960</td>\n",
       "      <td>170.0</td>\n",
       "      <td>nM</td>\n",
       "      <td>Cc1cc(C(=O)N2CCOCC2)[nH]c1/C=C1\\C(=O)Nc2ncnc(N...</td>\n",
       "    </tr>\n",
       "    <tr>\n",
       "      <th>2</th>\n",
       "      <td>CHEMBL137635</td>\n",
       "      <td>9300.0</td>\n",
       "      <td>nM</td>\n",
       "      <td>CN(c1ccccc1)c1ncnc2ccc(N/N=N/Cc3ccccn3)cc12</td>\n",
       "    </tr>\n",
       "    <tr>\n",
       "      <th>3</th>\n",
       "      <td>CHEMBL306988</td>\n",
       "      <td>500000.0</td>\n",
       "      <td>nM</td>\n",
       "      <td>CC(=C(C#N)C#N)c1ccc(NC(=O)CCC(=O)O)cc1</td>\n",
       "    </tr>\n",
       "    <tr>\n",
       "      <th>4</th>\n",
       "      <td>CHEMBL66879</td>\n",
       "      <td>3000000.0</td>\n",
       "      <td>nM</td>\n",
       "      <td>O=C(O)/C=C/c1ccc(O)cc1</td>\n",
       "    </tr>\n",
       "    <tr>\n",
       "      <th>5</th>\n",
       "      <td>CHEMBL77085</td>\n",
       "      <td>96000.0</td>\n",
       "      <td>nM</td>\n",
       "      <td>N#CC(C#N)=Cc1cc(O)ccc1[N+](=O)[O-]</td>\n",
       "    </tr>\n",
       "    <tr>\n",
       "      <th>6</th>\n",
       "      <td>CHEMBL443268</td>\n",
       "      <td>5310.0</td>\n",
       "      <td>nM</td>\n",
       "      <td>Cc1cc(C(=O)NCCN2CCOCC2)[nH]c1/C=C1\\C(=O)N(C)c2...</td>\n",
       "    </tr>\n",
       "    <tr>\n",
       "      <th>7</th>\n",
       "      <td>CHEMBL76979</td>\n",
       "      <td>264000.0</td>\n",
       "      <td>nM</td>\n",
       "      <td>COc1cc(/C=C(\\C#N)C(=O)O)cc(OC)c1O</td>\n",
       "    </tr>\n",
       "    <tr>\n",
       "      <th>8</th>\n",
       "      <td>CHEMBL76589</td>\n",
       "      <td>125.0</td>\n",
       "      <td>nM</td>\n",
       "      <td>N#CC(C#N)=C(N)/C(C#N)=C/c1ccc(O)cc1</td>\n",
       "    </tr>\n",
       "    <tr>\n",
       "      <th>9</th>\n",
       "      <td>CHEMBL76904</td>\n",
       "      <td>35000.0</td>\n",
       "      <td>nM</td>\n",
       "      <td>N#CC(C#N)=Cc1ccc(O)c(O)c1</td>\n",
       "    </tr>\n",
       "  </tbody>\n",
       "</table>\n",
       "</div>"
      ],
      "text/plain": [
       "  molecule_chembl_id       IC50 units  \\\n",
       "0        CHEMBL68920       41.0    nM   \n",
       "1        CHEMBL69960      170.0    nM   \n",
       "2       CHEMBL137635     9300.0    nM   \n",
       "3       CHEMBL306988   500000.0    nM   \n",
       "4        CHEMBL66879  3000000.0    nM   \n",
       "5        CHEMBL77085    96000.0    nM   \n",
       "6       CHEMBL443268     5310.0    nM   \n",
       "7        CHEMBL76979   264000.0    nM   \n",
       "8        CHEMBL76589      125.0    nM   \n",
       "9        CHEMBL76904    35000.0    nM   \n",
       "\n",
       "                                              smiles  \n",
       "0  Cc1cc(C)c(/C=C2\\C(=O)Nc3ncnc(Nc4ccc(F)c(Cl)c4)...  \n",
       "1  Cc1cc(C(=O)N2CCOCC2)[nH]c1/C=C1\\C(=O)Nc2ncnc(N...  \n",
       "2        CN(c1ccccc1)c1ncnc2ccc(N/N=N/Cc3ccccn3)cc12  \n",
       "3             CC(=C(C#N)C#N)c1ccc(NC(=O)CCC(=O)O)cc1  \n",
       "4                             O=C(O)/C=C/c1ccc(O)cc1  \n",
       "5                 N#CC(C#N)=Cc1cc(O)ccc1[N+](=O)[O-]  \n",
       "6  Cc1cc(C(=O)NCCN2CCOCC2)[nH]c1/C=C1\\C(=O)N(C)c2...  \n",
       "7                  COc1cc(/C=C(\\C#N)C(=O)O)cc(OC)c1O  \n",
       "8                N#CC(C#N)=C(N)/C(C#N)=C/c1ccc(O)cc1  \n",
       "9                          N#CC(C#N)=Cc1ccc(O)c(O)c1  "
      ]
     },
     "execution_count": 38,
     "metadata": {},
     "output_type": "execute_result"
    }
   ],
   "source": [
    "output_df.head(10)"
   ]
  },
  {
   "cell_type": "code",
   "execution_count": 39,
   "metadata": {},
   "outputs": [],
   "source": [
    "def convert_ic50_to_pic50(IC50_value):\n",
    "    pIC50_value = 9 - math.log10(IC50_value)\n",
    "    return pIC50_value"
   ]
  },
  {
   "cell_type": "code",
   "execution_count": 40,
   "metadata": {},
   "outputs": [],
   "source": [
    "# Apply conversion to each row of the compounds DataFrame\n",
    "output_df[\"pIC50\"] = output_df.apply(lambda x: convert_ic50_to_pic50(x.IC50), axis=1)"
   ]
  },
  {
   "cell_type": "code",
   "execution_count": 41,
   "metadata": {},
   "outputs": [
    {
     "data": {
      "text/html": [
       "<div>\n",
       "<style scoped>\n",
       "    .dataframe tbody tr th:only-of-type {\n",
       "        vertical-align: middle;\n",
       "    }\n",
       "\n",
       "    .dataframe tbody tr th {\n",
       "        vertical-align: top;\n",
       "    }\n",
       "\n",
       "    .dataframe thead th {\n",
       "        text-align: right;\n",
       "    }\n",
       "</style>\n",
       "<table border=\"1\" class=\"dataframe\">\n",
       "  <thead>\n",
       "    <tr style=\"text-align: right;\">\n",
       "      <th></th>\n",
       "      <th>molecule_chembl_id</th>\n",
       "      <th>IC50</th>\n",
       "      <th>units</th>\n",
       "      <th>smiles</th>\n",
       "      <th>pIC50</th>\n",
       "    </tr>\n",
       "  </thead>\n",
       "  <tbody>\n",
       "    <tr>\n",
       "      <th>0</th>\n",
       "      <td>CHEMBL68920</td>\n",
       "      <td>41.0</td>\n",
       "      <td>nM</td>\n",
       "      <td>Cc1cc(C)c(/C=C2\\C(=O)Nc3ncnc(Nc4ccc(F)c(Cl)c4)...</td>\n",
       "      <td>7.387216</td>\n",
       "    </tr>\n",
       "    <tr>\n",
       "      <th>1</th>\n",
       "      <td>CHEMBL69960</td>\n",
       "      <td>170.0</td>\n",
       "      <td>nM</td>\n",
       "      <td>Cc1cc(C(=O)N2CCOCC2)[nH]c1/C=C1\\C(=O)Nc2ncnc(N...</td>\n",
       "      <td>6.769551</td>\n",
       "    </tr>\n",
       "    <tr>\n",
       "      <th>2</th>\n",
       "      <td>CHEMBL137635</td>\n",
       "      <td>9300.0</td>\n",
       "      <td>nM</td>\n",
       "      <td>CN(c1ccccc1)c1ncnc2ccc(N/N=N/Cc3ccccn3)cc12</td>\n",
       "      <td>5.031517</td>\n",
       "    </tr>\n",
       "    <tr>\n",
       "      <th>3</th>\n",
       "      <td>CHEMBL306988</td>\n",
       "      <td>500000.0</td>\n",
       "      <td>nM</td>\n",
       "      <td>CC(=C(C#N)C#N)c1ccc(NC(=O)CCC(=O)O)cc1</td>\n",
       "      <td>3.301030</td>\n",
       "    </tr>\n",
       "    <tr>\n",
       "      <th>4</th>\n",
       "      <td>CHEMBL66879</td>\n",
       "      <td>3000000.0</td>\n",
       "      <td>nM</td>\n",
       "      <td>O=C(O)/C=C/c1ccc(O)cc1</td>\n",
       "      <td>2.522879</td>\n",
       "    </tr>\n",
       "  </tbody>\n",
       "</table>\n",
       "</div>"
      ],
      "text/plain": [
       "  molecule_chembl_id       IC50 units  \\\n",
       "0        CHEMBL68920       41.0    nM   \n",
       "1        CHEMBL69960      170.0    nM   \n",
       "2       CHEMBL137635     9300.0    nM   \n",
       "3       CHEMBL306988   500000.0    nM   \n",
       "4        CHEMBL66879  3000000.0    nM   \n",
       "\n",
       "                                              smiles     pIC50  \n",
       "0  Cc1cc(C)c(/C=C2\\C(=O)Nc3ncnc(Nc4ccc(F)c(Cl)c4)...  7.387216  \n",
       "1  Cc1cc(C(=O)N2CCOCC2)[nH]c1/C=C1\\C(=O)Nc2ncnc(N...  6.769551  \n",
       "2        CN(c1ccccc1)c1ncnc2ccc(N/N=N/Cc3ccccn3)cc12  5.031517  \n",
       "3             CC(=C(C#N)C#N)c1ccc(NC(=O)CCC(=O)O)cc1  3.301030  \n",
       "4                             O=C(O)/C=C/c1ccc(O)cc1  2.522879  "
      ]
     },
     "execution_count": 41,
     "metadata": {},
     "output_type": "execute_result"
    }
   ],
   "source": [
    "output_df.head()"
   ]
  },
  {
   "cell_type": "code",
   "execution_count": 42,
   "metadata": {},
   "outputs": [
    {
     "data": {
      "text/plain": [
       "array([[<Axes: title={'center': 'pIC50'}>]], dtype=object)"
      ]
     },
     "execution_count": 42,
     "metadata": {},
     "output_type": "execute_result"
    },
    {
     "data": {
      "image/png": "[encoded data removed]",
      "text/plain": [
       "<Figure size 640x480 with 1 Axes>"
      ]
     },
     "metadata": {},
     "output_type": "display_data"
    }
   ],
   "source": [
    "output_df.hist(column=\"pIC50\")"
   ]
  },
  {
   "cell_type": "code",
   "execution_count": 43,
   "metadata": {},
   "outputs": [],
   "source": [
    "# Add molecule column\n",
    "PandasTools.AddMoleculeColumnToFrame(output_df, smilesCol=\"smiles\")"
   ]
  },
  {
   "cell_type": "code",
   "execution_count": 44,
   "metadata": {},
   "outputs": [],
   "source": [
    "# Sort molecules by pIC50\n",
    "output_df.sort_values(by=\"pIC50\", ascending=False, inplace=True)\n",
    "\n",
    "# Reset index\n",
    "output_df.reset_index(drop=True, inplace=True)"
   ]
  },
  {
   "cell_type": "code",
   "execution_count": 45,
   "metadata": {},
   "outputs": [
    {
     "data": {
      "text/html": [
       "<div>\n",
       "<style scoped>\n",
       "    .dataframe tbody tr th:only-of-type {\n",
       "        vertical-align: middle;\n",
       "    }\n",
       "\n",
       "    .dataframe tbody tr th {\n",
       "        vertical-align: top;\n",
       "    }\n",
       "\n",
       "    .dataframe thead th {\n",
       "        text-align: right;\n",
       "    }\n",
       "</style>\n",
       "<table border=\"1\" class=\"dataframe\">\n",
       "  <thead>\n",
       "    <tr style=\"text-align: right;\">\n",
       "      <th></th>\n",
       "      <th>molecule_chembl_id</th>\n",
       "      <th>IC50</th>\n",
       "      <th>units</th>\n",
       "      <th>pIC50</th>\n",
       "      <th>ROMol</th>\n",
       "    </tr>\n",
       "  </thead>\n",
       "  <tbody>\n",
       "    <tr>\n",
       "      <th>0</th>\n",
       "      <td>CHEMBL63786</td>\n",
       "      <td>0.003</td>\n",
       "      <td>nM</td>\n",
       "      <td>11.522879</td>\n",
       "      <td>&lt;rdkit.Chem.rdchem.Mol object at 0x7f0504cd40b0&gt;</td>\n",
       "    </tr>\n",
       "    <tr>\n",
       "      <th>1</th>\n",
       "      <td>CHEMBL53711</td>\n",
       "      <td>0.006</td>\n",
       "      <td>nM</td>\n",
       "      <td>11.221849</td>\n",
       "      <td>&lt;rdkit.Chem.rdchem.Mol object at 0x7f0504d4b740&gt;</td>\n",
       "    </tr>\n",
       "    <tr>\n",
       "      <th>2</th>\n",
       "      <td>CHEMBL35820</td>\n",
       "      <td>0.006</td>\n",
       "      <td>nM</td>\n",
       "      <td>11.221849</td>\n",
       "      <td>&lt;rdkit.Chem.rdchem.Mol object at 0x7f0504d3e740&gt;</td>\n",
       "    </tr>\n",
       "  </tbody>\n",
       "</table>\n",
       "</div>"
      ],
      "text/plain": [
       "  molecule_chembl_id   IC50 units      pIC50  \\\n",
       "0        CHEMBL63786  0.003    nM  11.522879   \n",
       "1        CHEMBL53711  0.006    nM  11.221849   \n",
       "2        CHEMBL35820  0.006    nM  11.221849   \n",
       "\n",
       "                                              ROMol  \n",
       "0  <rdkit.Chem.rdchem.Mol object at 0x7f0504cd40b0>  \n",
       "1  <rdkit.Chem.rdchem.Mol object at 0x7f0504d4b740>  \n",
       "2  <rdkit.Chem.rdchem.Mol object at 0x7f0504d3e740>  "
      ]
     },
     "execution_count": 45,
     "metadata": {},
     "output_type": "execute_result"
    }
   ],
   "source": [
    "output_df.drop(\"smiles\", axis=1).head(3)"
   ]
  },
  {
   "cell_type": "code",
   "execution_count": 46,
   "metadata": {},
   "outputs": [
    {
     "name": "stdout",
     "output_type": "stream",
     "text": [
      "DataFrame shape: (7074, 5)\n"
     ]
    }
   ],
   "source": [
    "# Prepare saving the dataset: Drop the ROMol column\n",
    "output_df = output_df.drop(\"ROMol\", axis=1)\n",
    "print(f\"DataFrame shape: {output_df.shape}\")"
   ]
  }
 ],
 "metadata": {
  "kernelspec": {
   "display_name": "mqubit",
   "language": "python",
   "name": "python3"
  },
  "language_info": {
   "codemirror_mode": {
    "name": "ipython",
    "version": 3
   },
   "file_extension": ".py",
   "mimetype": "text/x-python",
   "name": "python",
   "nbconvert_exporter": "python",
   "pygments_lexer": "ipython3",
   "version": "3.8.19"
  }
 },
 "nbformat": 4,
 "nbformat_minor": 2
}
