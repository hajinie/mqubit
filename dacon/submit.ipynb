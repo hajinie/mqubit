{
 "cells": [
  {
   "cell_type": "code",
   "execution_count": 137,
   "metadata": {},
   "outputs": [],
   "source": [
    "import pandas as pd\n",
    "import numpy as np\n",
    "import os\n",
    "import random\n",
    "\n",
    "from rdkit import Chem\n",
    "from rdkit.Chem import AllChem\n",
    "from sklearn.model_selection import train_test_split\n",
    "from sklearn.ensemble import RandomForestRegressor\n",
    "from sklearn.metrics import mean_squared_error, mean_absolute_error, r2_score\n"
   ]
  },
  {
   "cell_type": "markdown",
   "metadata": {},
   "source": [
    "**seed 고정**\n",
    "\n",
    "seed 고정 이유:\n",
    "재현성을 보장하기 위해/ 동일한 데이터와 동일한 코드로 항상 동일한 결과를 얻음. "
   ]
  },
  {
   "cell_type": "code",
   "execution_count": 138,
   "metadata": {},
   "outputs": [
    {
     "data": {
      "text/plain": [
       "'Seed 42 has been set.'"
      ]
     },
     "execution_count": 138,
     "metadata": {},
     "output_type": "execute_result"
    }
   ],
   "source": [
    "CFG = {\n",
    "    'NBITS':2048,\n",
    "    'SEED':42,\n",
    "\n",
    "}\n",
    "\n",
    "def seed_everything(seed):\n",
    "    random.seed(seed)\n",
    "    os.environ['PYTHONHASHSEED'] = str(seed)\n",
    "    np.random.seed(seed)\n",
    "    return f\"Seed {seed} has been set.\"\n",
    "seed_everything(CFG['SEED'])"
   ]
  },
  {
   "cell_type": "code",
   "execution_count": 139,
   "metadata": {},
   "outputs": [],
   "source": [
    "\n",
    "# SMILES 데이터를 분자 지문으로 변환\n",
    "def smiles_to_fingerprint(smiles):\n",
    "    mol = Chem.MolFromSmiles(smiles)\n",
    "    if mol is not None:\n",
    "        fp = AllChem.GetMorganFingerprintAsBitVect(mol, 3, nBits=CFG['NBITS'])\n",
    "        return np.array(fp)\n",
    "    else:\n",
    "        return np.zeros((CFG['NBITS'],))\n",
    "    "
   ]
  },
  {
   "cell_type": "code",
   "execution_count": 140,
   "metadata": {},
   "outputs": [
    {
     "name": "stderr",
     "output_type": "stream",
     "text": [
      "/tmp/ipykernel_24207/3207353515.py:6: SettingWithCopyWarning: \n",
      "A value is trying to be set on a copy of a slice from a DataFrame.\n",
      "Try using .loc[row_indexer,col_indexer] = value instead\n",
      "\n",
      "See the caveats in the documentation: https://pandas.pydata.org/pandas-docs/stable/user_guide/indexing.html#returning-a-view-versus-a-copy\n",
      "  train['Fingerprint'] = train['Smiles'].apply(smiles_to_fingerprint)\n"
     ]
    }
   ],
   "source": [
    "# 학습 ChEMBL 데이터 로드\n",
    "chembl_data = pd.read_csv('./open/train.csv')  # 예시 파일 이름\n",
    "chembl_data.head()\n",
    "\n",
    "train = chembl_data[['Smiles', 'pIC50']]\n",
    "train['Fingerprint'] = train['Smiles'].apply(smiles_to_fingerprint)\n",
    "train_x = np.stack(train['Fingerprint'].values)\n",
    "train_y = train['pIC50'].values\n"
   ]
  },
  {
   "cell_type": "code",
   "execution_count": 141,
   "metadata": {},
   "outputs": [],
   "source": [
    "# 학습 및 검증 데이터 분리\n",
    "train_x, val_x, train_y, val_y = train_test_split(train_x, train_y, test_size=0.25, random_state=42)\n",
    "\n",
    "# 랜덤 포레스트 모델 학습\n",
    "model = RandomForestRegressor( n_estimators=100, random_state=CFG['SEED'])\n",
    "model.fit(train_x, train_y)\n",
    "\n",
    "def pIC50_to_IC50(pic50_values):\n",
    "    \"\"\"Convert pIC50 values to IC50 (nM).\"\"\"\n",
    "    return 10 ** (9 - pic50_values)"
   ]
  },
  {
   "cell_type": "code",
   "execution_count": 142,
   "metadata": {},
   "outputs": [
    {
     "name": "stdout",
     "output_type": "stream",
     "text": [
      "RMSE: 1801.8774939383463\n"
     ]
    }
   ],
   "source": [
    "# Validation 데이터로부터의 학습 모델 평가\n",
    "val_y_pred = model.predict(val_x)\n",
    "\n",
    "# IC50 단위로 변환된 값\n",
    "val_y_ic50 = pIC50_to_IC50(val_y)\n",
    "val_y_pred_ic50 = pIC50_to_IC50(val_y_pred)\n",
    "\n",
    "mse = mean_squared_error(val_y_ic50, val_y_pred_ic50)\n",
    "rmse = np.sqrt(mse)\n",
    "mae = mean_absolute_error(val_y_ic50, val_y_pred_ic50)\n",
    "r2 = r2_score(val_y_ic50, val_y_pred_ic50)\n",
    "\n",
    "print(f'RMSE: {rmse}')\n",
    "print(f'MSE: {mse}')\n",
    "print(f'MAE: {mae}')\n",
    "print(f'R² Score: {r2}')\n",
    "\n",
    "#제출 할 파일 저장\n",
    "\n",
    "test = pd.read_csv('./open/test.csv')\n",
    "test['Fingerprint'] = test['Smiles'].apply(smiles_to_fingerprint)\n",
    "\n",
    "test_x = np.stack(test['Fingerprint'].values)\n",
    "\n",
    "test_y_pred = model.predict(test_x)\n",
    "\n",
    "submit = pd.read_csv('./open/sample_submission.csv')\n",
    "submit['IC50_nM'] = pIC50_to_IC50(test_y_pred)\n",
    "submit.head()\n",
    "\n",
    "submit.to_csv('./open/submit_file.csv', index=False)"
   ]
  },
  {
   "cell_type": "code",
   "execution_count": 143,
   "metadata": {},
   "outputs": [
    {
     "name": "stdout",
     "output_type": "stream",
     "text": [
      "RMSE: 1801.8774939383463\n",
      "MSE: 3246762.5031615356\n",
      "MAE: 527.0260580667718\n",
      "R² Score: 0.1452898642943634\n"
     ]
    }
   ],
   "source": [
    "# IC50 단위로 변환된 값\n",
    "val_y_ic50 = pIC50_to_IC50(val_y)\n",
    "val_y_pred_ic50 = pIC50_to_IC50(val_y_pred)\n",
    "\n",
    "\n",
    "\n",
    "# 결과 출력\n",
    "\n"
   ]
  }
 ],
 "metadata": {
  "kernelspec": {
   "display_name": "teachopencadd",
   "language": "python",
   "name": "python3"
  },
  "language_info": {
   "codemirror_mode": {
    "name": "ipython",
    "version": 3
   },
   "file_extension": ".py",
   "mimetype": "text/x-python",
   "name": "python",
   "nbconvert_exporter": "python",
   "pygments_lexer": "ipython3",
   "version": "3.8.19"
  }
 },
 "nbformat": 4,
 "nbformat_minor": 2
}
